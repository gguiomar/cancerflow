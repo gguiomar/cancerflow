{
 "cells": [
  {
   "cell_type": "markdown",
   "metadata": {},
   "source": [
    "# Goals:\n",
    "\n",
    "Datasets to be generated:\n",
    "* Rotated image dataset:\n",
    "    * each image is reflected in both axis and saved\n",
    "* Image patch dataset:\n",
    "    * turn each image into a set of smaller grid image patches\n",
    "* Try to let the optimisations run for 1000 iterations - Use house pc"
   ]
  },
  {
   "cell_type": "code",
   "execution_count": 1,
   "metadata": {
    "collapsed": false
   },
   "outputs": [],
   "source": [
    "import os, sys\n",
    "from PIL import Image\n",
    "import PIL\n",
    "from cnn_data_import import *\n",
    "import shutil\n",
    "from os import walk"
   ]
  },
  {
   "cell_type": "code",
   "execution_count": 2,
   "metadata": {
    "collapsed": true
   },
   "outputs": [],
   "source": [
    "folder ='/Users/indp/Dropbox/rotations/polavieja/data/good_datasets/isic-archive_ss/'\n",
    "path_melanoma = folder + 'melanoma/'\n",
    "path_non_melanoma = folder + 'non_melanoma/'\n",
    "img_path = folder + 'all/'\n",
    "img_out_r = folder + 'all2/'\n",
    "img_out_patch = folder +'all3/'\n",
    "img_out_square = folder + 'all4/'"
   ]
  },
  {
   "cell_type": "code",
   "execution_count": 6,
   "metadata": {
    "collapsed": false
   },
   "outputs": [],
   "source": [
    "# clean directories of future augmented \n",
    "dirs = [img_out_r, img_out_patch, img_out_square]\n",
    "for e in dirs:\n",
    "    if os.path.exists(e):\n",
    "        shutil.rmtree(e)\n",
    "    else:\n",
    "        os.mkdir(e)"
   ]
  },
  {
   "cell_type": "code",
   "execution_count": 7,
   "metadata": {
    "collapsed": false
   },
   "outputs": [
    {
     "name": "stdout",
     "output_type": "stream",
     "text": [
      "Size of the images: (448, 598)\n"
     ]
    }
   ],
   "source": [
    "img_name_cls = load_cancer_data_labels1(path_melanoma, path_non_melanoma)\n",
    "\n",
    "(height,width) = get_expected_size(img_name_cls, img_path)\n",
    "print('Size of the images:', (height,width))\n",
    "\n",
    "image_index = 0\n",
    "extracted_img_ind = []"
   ]
  },
  {
   "cell_type": "code",
   "execution_count": 8,
   "metadata": {
    "collapsed": false,
    "scrolled": false
   },
   "outputs": [],
   "source": [
    "# square the images for patching\n",
    "ofs = (100, 30)\n",
    "for i,e in enumerate(img_name_cls):\n",
    "    image_data = Image.open(img_path + e[0]).convert('L')\n",
    "    image_data = image_data.crop((ofs[0],ofs[1], 400 + ofs[0], 400 + ofs[1]))\n",
    "    image_data.save(img_out_square + e[0], \"JPEG\")"
   ]
  },
  {
   "cell_type": "code",
   "execution_count": 220,
   "metadata": {
    "collapsed": true
   },
   "outputs": [],
   "source": [
    "### get the last filename\n",
    "name_img = []\n",
    "for (dirpath, dirnames, filenames) in walk(img_path):\n",
    "    name_img.extend(filenames)\n",
    "    break\n",
    "name_img = name_img[1:-1]\n",
    "last_number = int(name_img[-1][5:-4]) # get the last number // remember to add 2 zeros\n",
    "\n",
    "# find the melanomas\n",
    "name_img_melanoma = []\n",
    "for (dirpath, dirnames, filenames) in walk(path_melanoma):\n",
    "    name_img_melanoma.extend(filenames)\n",
    "    break\n",
    "name_img_melanoma = name_img_melanoma[1:-1]"
   ]
  },
  {
   "cell_type": "code",
   "execution_count": 222,
   "metadata": {
    "collapsed": false
   },
   "outputs": [
    {
     "name": "stdout",
     "output_type": "stream",
     "text": [
      " Progress:  2308"
     ]
    }
   ],
   "source": [
    "# save the rotated images\n",
    "c = 1\n",
    "for name in name_img_melanoma:\n",
    "    image_data = Image.open(img_out_square + name).convert('L')\n",
    "    for angle in [90, 180, 270]:\n",
    "        image_data = image_data.rotate(angle)\n",
    "        new_name = str('ISIC_00') + str(last_number+c) + str('.jpg')\n",
    "        image_data.save(img_out_r + new_name , \"JPEG\")\n",
    "        c+=1\n",
    "        print(\"\\r\", 'Progress: ', c, end = '')"
   ]
  },
  {
   "cell_type": "code",
   "execution_count": 238,
   "metadata": {
    "collapsed": true
   },
   "outputs": [],
   "source": [
    "new_melanoma_img_name = []\n",
    "for (dirpath, dirnames, filenames) in walk(img_out_r):\n",
    "    new_melanoma_img_name.extend(filenames)\n",
    "    break\n",
    "new_melanoma_img_name = new_melanoma_imgs[1:-1]\n",
    "\n",
    "new_melanoma_img_lbl = []\n",
    "for e in new_melanoma_img_name:\n",
    "    new_melanoma_img_lbl.append([e,1])"
   ]
  },
  {
   "cell_type": "code",
   "execution_count": 239,
   "metadata": {
    "collapsed": false,
    "scrolled": true
   },
   "outputs": [
    {
     "data": {
      "text/plain": [
       "array([['ISIC_0012087.jpg', '1'],\n",
       "       ['ISIC_0012088.jpg', '1'],\n",
       "       ['ISIC_0012089.jpg', '1'],\n",
       "       ..., \n",
       "       ['ISIC_0014387.jpg', '1'],\n",
       "       ['ISIC_0014388.jpg', '1'],\n",
       "       ['ISIC_0014389.jpg', '1']], \n",
       "      dtype='<U16')"
      ]
     },
     "execution_count": 239,
     "metadata": {},
     "output_type": "execute_result"
    }
   ],
   "source": [
    "np.asarray(new_melanoma_img_lbl)"
   ]
  },
  {
   "cell_type": "code",
   "execution_count": null,
   "metadata": {
    "collapsed": true
   },
   "outputs": [],
   "source": [
    "# save squared and greyed out images of melanomas / non_melanomas / rotated_melanomas into new folder"
   ]
  },
  {
   "cell_type": "code",
   "execution_count": null,
   "metadata": {
    "collapsed": true
   },
   "outputs": [],
   "source": []
  }
 ],
 "metadata": {
  "anaconda-cloud": {},
  "kernelspec": {
   "display_name": "Python [conda env:py35]",
   "language": "python",
   "name": "conda-env-py35-py"
  },
  "language_info": {
   "codemirror_mode": {
    "name": "ipython",
    "version": 3
   },
   "file_extension": ".py",
   "mimetype": "text/x-python",
   "name": "python",
   "nbconvert_exporter": "python",
   "pygments_lexer": "ipython3",
   "version": "3.5.2"
  }
 },
 "nbformat": 4,
 "nbformat_minor": 1
}
